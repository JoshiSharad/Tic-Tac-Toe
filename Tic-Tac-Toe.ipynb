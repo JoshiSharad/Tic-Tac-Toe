{
 "cells": [
  {
   "cell_type": "code",
   "execution_count": 10,
   "metadata": {},
   "outputs": [],
   "source": [
    "# Create board\n",
    "\n",
    "def display_board(board):\n",
    "    print(board[7] + '     |   ' + board[8] + '     |   ' + board[9])\n",
    "    print('---------------------')\n",
    "    print(board[4] + '     |   ' + board[5] + '     |   ' + board[6])\n",
    "    print('---------------------')\n",
    "    print(board[1] + '     |   ' + board[2] + '     |   ' + board[3])"
   ]
  },
  {
   "cell_type": "code",
   "execution_count": 11,
   "metadata": {},
   "outputs": [],
   "source": [
    "# Taking the marker choice from players\n",
    "\n",
    "def player_input():\n",
    "    '''\n",
    "    OUTPUT= (Player 1 marker , Player 2 marker)\n",
    "    '''\n",
    "    marker=''\n",
    "    while marker != 'X' and marker !='O':\n",
    "        marker=input('Player1: choose marker: ').upper()\n",
    "    \n",
    "    if marker=='X':\n",
    "        return ('X','O')\n",
    "    else:\n",
    "        return ('O','X')"
   ]
  },
  {
   "cell_type": "code",
   "execution_count": 13,
   "metadata": {},
   "outputs": [],
   "source": [
    "def place_marker(board,marker,position):\n",
    "     board[position]= marker"
   ]
  },
  {
   "cell_type": "code",
   "execution_count": 14,
   "metadata": {},
   "outputs": [],
   "source": [
    "# Winning scenario\n",
    "\n",
    "def win_check(board,marker):\n",
    "    \n",
    "    #rows\n",
    "    return ((board[7]==board[8]==board[9]==marker) or\n",
    "    (board[4]==board[5]==board[6]==marker)  or\n",
    "    (board[1]==board[2]==board[3]==marker) or\n",
    "    \n",
    "    #columns\n",
    "    (board[7]==board[4]==board[1]==marker) or\n",
    "    (board[8]==board[5]==board[2]==marker) or\n",
    "    (board[9]==board[6]==board[3]==marker) or\n",
    "    #diagonals\n",
    "    (board[7]==board[5]==board[3]==marker) or\n",
    "    (board[9]==board[5]==board[1]==marker))"
   ]
  },
  {
   "cell_type": "code",
   "execution_count": 16,
   "metadata": {},
   "outputs": [],
   "source": [
    "import random\n",
    "def choose_first():\n",
    "    flip= random.randint(0,1)\n",
    "    if flip==0:\n",
    "        return 'Player 1'\n",
    "    else:\n",
    "        return 'Player 2'"
   ]
  },
  {
   "cell_type": "code",
   "execution_count": 17,
   "metadata": {},
   "outputs": [],
   "source": [
    "# Check for space\n",
    "\n",
    "def space_check(board,position):\n",
    "    return board[position]== ''"
   ]
  },
  {
   "cell_type": "code",
   "execution_count": 7,
   "metadata": {},
   "outputs": [],
   "source": [
    "#Check whether the board is full or not\n",
    "\n",
    "def full_board_check(board):\n",
    "    for i in range(1,10):\n",
    "        if space_check(board,i):\n",
    "            return False\n",
    "    return True"
   ]
  },
  {
   "cell_type": "code",
   "execution_count": 8,
   "metadata": {},
   "outputs": [],
   "source": [
    "# Ask player for placement of marker\n",
    "\n",
    "def player_choice(board):\n",
    "    position=0\n",
    "    while position not in [1,2,3,4,5,6,7,8,9] or not space_check(board,position):\n",
    "        position= int(input('choose a postion: (1-9)  '))\n",
    "    \n",
    "    return position\n",
    "    "
   ]
  },
  {
   "cell_type": "code",
   "execution_count": 9,
   "metadata": {},
   "outputs": [],
   "source": [
    "def replay():\n",
    "    choice= input('Play again?? Enter Yes or No')\n",
    "    return choice=='yes'"
   ]
  },
  {
   "cell_type": "code",
   "execution_count": null,
   "metadata": {},
   "outputs": [],
   "source": [
    "#while loop to keep playing the game\n",
    "\n",
    "print (' Welcome to Tic Tac Toe')\n",
    "while True:\n",
    "    #play the game\n",
    "    \n",
    "    #set everything up(board)\n",
    "    the_board=['']*10\n",
    "    player1_marker,player2_marker=player_input()\n",
    "    \n",
    "    turn= choose_first()\n",
    "    print(turn + 'will go first')\n",
    "    play_game= input('Ready to play? y or n') \n",
    "    if play_game== 'y':\n",
    "        game_on = True\n",
    "         \n",
    "    #gameplay\n",
    "    while game_on:\n",
    "        if turn == 'Player 1':\n",
    "            #show board\n",
    "            display_board(the_board)\n",
    "            #choose position\n",
    "            position= player_choice(the_board)\n",
    "            \n",
    "            #place the marker\n",
    "            place_marker(the_board,player1_marker,position)\n",
    "            \n",
    "            #check for win\n",
    "            if win_check(the_board,player1_marker):\n",
    "                display_board(the_board)\n",
    "                print('Player 1 has won!!')\n",
    "                game_on = False\n",
    "            else:\n",
    "                if full_board_check(the_board):\n",
    "                    display_board(the_board)\n",
    "                    print('Tie Game!')\n",
    "                    game_on= False \n",
    "                else:\n",
    "                    turn= 'Player 2'\n",
    "            \n",
    "         \n",
    "        else:\n",
    "            #show board\n",
    "            display_board(the_board)\n",
    "            #choose position\n",
    "            position= player_choice(the_board)\n",
    "            \n",
    "            #place the marker\n",
    "            place_marker(the_board,player2_marker,position)\n",
    "            \n",
    "            #check for win\n",
    "            if win_check(the_board,player2_marker):\n",
    "                display_board(the_board)\n",
    "                print('Player 2 has won!!')\n",
    "                game_on = False\n",
    "            else:\n",
    "                if full_board_check(the_board):\n",
    "                    display_board(the_board)\n",
    "                    print('Tie Game!')\n",
    "                    game_on = False \n",
    "                else:\n",
    "                    turn = 'Player 1'\n",
    "            \n",
    "\n",
    "    \n",
    "    \n",
    "    if not replay():\n",
    "        break\n",
    "    \n",
    "# break out of the while loop on replay()"
   ]
  },
  {
   "cell_type": "code",
   "execution_count": null,
   "metadata": {},
   "outputs": [],
   "source": []
  }
 ],
 "metadata": {
  "kernelspec": {
   "display_name": "Python 3",
   "language": "python",
   "name": "python3"
  },
  "language_info": {
   "codemirror_mode": {
    "name": "ipython",
    "version": 3
   },
   "file_extension": ".py",
   "mimetype": "text/x-python",
   "name": "python",
   "nbconvert_exporter": "python",
   "pygments_lexer": "ipython3",
   "version": "3.8.5"
  }
 },
 "nbformat": 4,
 "nbformat_minor": 4
}
